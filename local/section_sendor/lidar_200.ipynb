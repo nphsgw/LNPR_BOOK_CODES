{
 "cells": [
  {
   "cell_type": "code",
   "execution_count": 3,
   "metadata": {},
   "outputs": [
    {
     "data": {
      "text/html": [
       "<div>\n",
       "<style scoped>\n",
       "    .dataframe tbody tr th:only-of-type {\n",
       "        vertical-align: middle;\n",
       "    }\n",
       "\n",
       "    .dataframe tbody tr th {\n",
       "        vertical-align: top;\n",
       "    }\n",
       "\n",
       "    .dataframe thead th {\n",
       "        text-align: right;\n",
       "    }\n",
       "</style>\n",
       "<table border=\"1\" class=\"dataframe\">\n",
       "  <thead>\n",
       "    <tr style=\"text-align: right;\">\n",
       "      <th></th>\n",
       "      <th>data</th>\n",
       "      <th>time</th>\n",
       "      <th>ir</th>\n",
       "      <th>lidar</th>\n",
       "    </tr>\n",
       "  </thead>\n",
       "  <tbody>\n",
       "    <tr>\n",
       "      <th>0</th>\n",
       "      <td>20180122</td>\n",
       "      <td>95819</td>\n",
       "      <td>305</td>\n",
       "      <td>214</td>\n",
       "    </tr>\n",
       "    <tr>\n",
       "      <th>1</th>\n",
       "      <td>20180122</td>\n",
       "      <td>95822</td>\n",
       "      <td>299</td>\n",
       "      <td>211</td>\n",
       "    </tr>\n",
       "    <tr>\n",
       "      <th>2</th>\n",
       "      <td>20180122</td>\n",
       "      <td>95826</td>\n",
       "      <td>292</td>\n",
       "      <td>199</td>\n",
       "    </tr>\n",
       "    <tr>\n",
       "      <th>3</th>\n",
       "      <td>20180122</td>\n",
       "      <td>95829</td>\n",
       "      <td>321</td>\n",
       "      <td>208</td>\n",
       "    </tr>\n",
       "    <tr>\n",
       "      <th>4</th>\n",
       "      <td>20180122</td>\n",
       "      <td>95832</td>\n",
       "      <td>298</td>\n",
       "      <td>212</td>\n",
       "    </tr>\n",
       "    <tr>\n",
       "      <th>...</th>\n",
       "      <td>...</td>\n",
       "      <td>...</td>\n",
       "      <td>...</td>\n",
       "      <td>...</td>\n",
       "    </tr>\n",
       "    <tr>\n",
       "      <th>58983</th>\n",
       "      <td>20180124</td>\n",
       "      <td>120023</td>\n",
       "      <td>313</td>\n",
       "      <td>208</td>\n",
       "    </tr>\n",
       "    <tr>\n",
       "      <th>58984</th>\n",
       "      <td>20180124</td>\n",
       "      <td>120026</td>\n",
       "      <td>297</td>\n",
       "      <td>200</td>\n",
       "    </tr>\n",
       "    <tr>\n",
       "      <th>58985</th>\n",
       "      <td>20180124</td>\n",
       "      <td>120030</td>\n",
       "      <td>323</td>\n",
       "      <td>204</td>\n",
       "    </tr>\n",
       "    <tr>\n",
       "      <th>58986</th>\n",
       "      <td>20180124</td>\n",
       "      <td>120033</td>\n",
       "      <td>326</td>\n",
       "      <td>207</td>\n",
       "    </tr>\n",
       "    <tr>\n",
       "      <th>58987</th>\n",
       "      <td>20180124</td>\n",
       "      <td>120036</td>\n",
       "      <td>321</td>\n",
       "      <td>208</td>\n",
       "    </tr>\n",
       "  </tbody>\n",
       "</table>\n",
       "<p>58988 rows × 4 columns</p>\n",
       "</div>"
      ],
      "text/plain": [
       "           data    time   ir  lidar\n",
       "0      20180122   95819  305    214\n",
       "1      20180122   95822  299    211\n",
       "2      20180122   95826  292    199\n",
       "3      20180122   95829  321    208\n",
       "4      20180122   95832  298    212\n",
       "...         ...     ...  ...    ...\n",
       "58983  20180124  120023  313    208\n",
       "58984  20180124  120026  297    200\n",
       "58985  20180124  120030  323    204\n",
       "58986  20180124  120033  326    207\n",
       "58987  20180124  120036  321    208\n",
       "\n",
       "[58988 rows x 4 columns]"
      ]
     },
     "execution_count": 3,
     "metadata": {},
     "output_type": "execute_result"
    }
   ],
   "source": [
    "import pandas as pd\n",
    "data = pd.read_csv(\"../../sensor_data/sensor_data_200.txt\",delimiter=\" \",header=None,names=(\"data\",\"time\",\"ir\",\"lidar\"))\n",
    "data"
   ]
  },
  {
   "cell_type": "code",
   "execution_count": 4,
   "metadata": {},
   "outputs": [
    {
     "name": "stdout",
     "output_type": "stream",
     "text": [
      "0    214\n",
      "1    211\n",
      "2    199\n",
      "3    208\n",
      "4    212\n",
      "Name: lidar, dtype: int64\n"
     ]
    }
   ],
   "source": [
    "print(data[\"lidar\"][0:5])"
   ]
  },
  {
   "cell_type": "code",
   "execution_count": 5,
   "metadata": {},
   "outputs": [
    {
     "data": {
      "image/png": "[encoded data removed]",
      "text/plain": [
       "<Figure size 432x288 with 1 Axes>"
      ]
     },
     "metadata": {
      "needs_background": "light"
     },
     "output_type": "display_data"
    }
   ],
   "source": [
    "import matplotlib.pyplot as plt\n",
    "data[\"lidar\"].hist(bins=max(data[\"lidar\"])-min(data[\"lidar\"]), align=\"left\")\n",
    "plt.show()"
   ]
  },
  {
   "cell_type": "code",
   "execution_count": 6,
   "metadata": {},
   "outputs": [
    {
     "name": "stdout",
     "output_type": "stream",
     "text": [
      "209.73713297619855 209.73713297619855\n"
     ]
    }
   ],
   "source": [
    "mean1=sum(data[\"lidar\"].values)/len(data[\"lidar\"].values)\n",
    "mean2=data[\"lidar\"].mean()\n",
    "print(mean1,mean2)"
   ]
  },
  {
   "cell_type": "code",
   "execution_count": 7,
   "metadata": {},
   "outputs": [
    {
     "data": {
      "image/png": "[encoded data removed]",
      "text/plain": [
       "<Figure size 432x288 with 1 Axes>"
      ]
     },
     "metadata": {
      "needs_background": "light"
     },
     "output_type": "display_data"
    }
   ],
   "source": [
    "data[\"lidar\"].hist(bins=max(data[\"lidar\"])-min(data[\"lidar\"]),color=\"orange\",align=\"left\")\n",
    "plt.vlines(mean1,ymin=0,ymax=5000,color=\"red\")\n",
    "plt.show()"
   ]
  },
  {
   "cell_type": "code",
   "execution_count": 8,
   "metadata": {},
   "outputs": [
    {
     "name": "stdout",
     "output_type": "stream",
     "text": [
      "23.407709770274106\n",
      "23.40810659855441\n",
      "23.4077097702742\n",
      "23.408106598554504\n",
      "23.4077097702742\n",
      "23.408106598554504\n"
     ]
    }
   ],
   "source": [
    "# 定義から計算\n",
    "zs=data[\"lidar\"].values\n",
    "mean=sum(zs)/len(zs)\n",
    "diff_square=[(z-mean)**2 for z in zs]\n",
    "\n",
    "sampling_var=sum(diff_square)/(len(zs))#標本分散\n",
    "unbiased_var=sum(diff_square)/(len(zs)-1)#不偏分散\n",
    "\n",
    "print(sampling_var)\n",
    "print(unbiased_var)\n",
    "\n",
    "# Pandasを使用\n",
    "pandas_sampling_var=data[\"lidar\"].var(ddof=False)# 標本分散\n",
    "pandas_default_var=data[\"lidar\"].var() # デフォルト(不偏分散)\n",
    "\n",
    "print(pandas_sampling_var)\n",
    "print(pandas_default_var)\n",
    "\n",
    "# Numpyを使用\n",
    "import numpy as np\n",
    "numpy_default_var=np.var(data[\"lidar\"])#デフォルト(標本分散)\n",
    "numpy_unbiased_var=np.var(data[\"lidar\"],ddof=1)#不偏分散\n",
    "\n",
    "print(numpy_default_var)\n",
    "print(numpy_unbiased_var)"
   ]
  },
  {
   "cell_type": "code",
   "execution_count": 9,
   "metadata": {},
   "outputs": [
    {
     "name": "stdout",
     "output_type": "stream",
     "text": [
      "4.838151482774605\n",
      "4.83819249292072\n",
      "4.838192492920729\n"
     ]
    }
   ],
   "source": [
    "# 標準偏差を算出\n",
    "import math\n",
    "\n",
    "# 定義から計算\n",
    "\n",
    "stddev1 = math.sqrt(sampling_var)\n",
    "stddev2 = math.sqrt(unbiased_var)\n",
    "\n",
    "# Pandasを使用\n",
    "pandas_stddev=data[\"lidar\"].std()\n",
    "\n",
    "print(stddev1)\n",
    "print(stddev2)\n",
    "print(pandas_stddev)"
   ]
  },
  {
   "cell_type": "markdown",
   "metadata": {},
   "source": [
    "標準偏差を使うともとのデータがどれくらいばらついいるかを説明できる。\n",
    "分散の次元はもとのセンサー値の2乗になっているが、標準偏差は平方根を撮っているのでもとのセンサー値と次元が揃う。\n",
    "例えば、今回の場合\n",
    "平均値が209.7[mm]で標準偏差が4.8[mm]ばらつくということになり\n",
    "209.7±4.8[mm]\n",
    "と表記できる。"
   ]
  },
  {
   "cell_type": "markdown",
   "metadata": {},
   "source": [
    "# 2.2.4 （素朴な）確率分布\n",
    "\n",
    "今度はセンサー値のリスト（0からN-1回まで）からN回目以降に採取されるセンサー値がどうなるか予測する問題を考えてみる。\n",
    "\n",
    "もし実験の条件が変わっていなければ、変数dataのヒストグラムで頻度の大きなところが出やすいと予測される。この値の出やすさを数値化したものを確率と呼ぶ。例えば、「センサー値xがN回目にP(x)の確率で出る」といった場合、「N回目のセンサー値の採取」を仮に100回やったら100P(x)回出るだろうということを意味する。\n",
    "\n",
    "ここでは厳密に確率を定義せずに、0回目からN-1回目までに記録されたセンサー値にある値がｍ個含まれていたら、その値が出る確率をP(z)=m/Nと考える"
   ]
  },
  {
   "cell_type": "code",
   "execution_count": 10,
   "metadata": {},
   "outputs": [
    {
     "data": {
      "text/html": [
       "<div>\n",
       "<style scoped>\n",
       "    .dataframe tbody tr th:only-of-type {\n",
       "        vertical-align: middle;\n",
       "    }\n",
       "\n",
       "    .dataframe tbody tr th {\n",
       "        vertical-align: top;\n",
       "    }\n",
       "\n",
       "    .dataframe thead th {\n",
       "        text-align: right;\n",
       "    }\n",
       "</style>\n",
       "<table border=\"1\" class=\"dataframe\">\n",
       "  <thead>\n",
       "    <tr style=\"text-align: right;\">\n",
       "      <th></th>\n",
       "      <th>211</th>\n",
       "      <th>210</th>\n",
       "      <th>208</th>\n",
       "      <th>209</th>\n",
       "      <th>212</th>\n",
       "      <th>207</th>\n",
       "      <th>213</th>\n",
       "      <th>206</th>\n",
       "      <th>214</th>\n",
       "      <th>205</th>\n",
       "      <th>...</th>\n",
       "      <th>197</th>\n",
       "      <th>196</th>\n",
       "      <th>223</th>\n",
       "      <th>224</th>\n",
       "      <th>226</th>\n",
       "      <th>195</th>\n",
       "      <th>194</th>\n",
       "      <th>193</th>\n",
       "      <th>227</th>\n",
       "      <th>229</th>\n",
       "    </tr>\n",
       "  </thead>\n",
       "  <tbody>\n",
       "    <tr>\n",
       "      <th>lidar</th>\n",
       "      <td>4409</td>\n",
       "      <td>4355</td>\n",
       "      <td>4261</td>\n",
       "      <td>4228</td>\n",
       "      <td>4201</td>\n",
       "      <td>3920</td>\n",
       "      <td>3897</td>\n",
       "      <td>3674</td>\n",
       "      <td>3572</td>\n",
       "      <td>3225</td>\n",
       "      <td>...</td>\n",
       "      <td>84</td>\n",
       "      <td>59</td>\n",
       "      <td>55</td>\n",
       "      <td>32</td>\n",
       "      <td>15</td>\n",
       "      <td>13</td>\n",
       "      <td>10</td>\n",
       "      <td>4</td>\n",
       "      <td>3</td>\n",
       "      <td>1</td>\n",
       "    </tr>\n",
       "  </tbody>\n",
       "</table>\n",
       "<p>1 rows × 35 columns</p>\n",
       "</div>"
      ],
      "text/plain": [
       "        211   210   208   209   212   207   213   206   214   205  ...  197  \\\n",
       "lidar  4409  4355  4261  4228  4201  3920  3897  3674  3572  3225  ...   84   \n",
       "\n",
       "       196  223  224  226  195  194  193  227  229  \n",
       "lidar   59   55   32   15   13   10    4    3    1  \n",
       "\n",
       "[1 rows x 35 columns]"
      ]
     },
     "execution_count": 10,
     "metadata": {},
     "output_type": "execute_result"
    }
   ],
   "source": [
    "# value_countでlidar列の各センサー値の頻度を数えてそれをデータフレームにする\n",
    "freqs = pd.DataFrame(data[\"lidar\"].value_counts())\n",
    "freqs.transpose()# 横向きに出力する"
   ]
  },
  {
   "cell_type": "code",
   "execution_count": 11,
   "metadata": {},
   "outputs": [
    {
     "data": {
      "text/html": [
       "<div>\n",
       "<style scoped>\n",
       "    .dataframe tbody tr th:only-of-type {\n",
       "        vertical-align: middle;\n",
       "    }\n",
       "\n",
       "    .dataframe tbody tr th {\n",
       "        vertical-align: top;\n",
       "    }\n",
       "\n",
       "    .dataframe thead th {\n",
       "        text-align: right;\n",
       "    }\n",
       "</style>\n",
       "<table border=\"1\" class=\"dataframe\">\n",
       "  <thead>\n",
       "    <tr style=\"text-align: right;\">\n",
       "      <th></th>\n",
       "      <th>211</th>\n",
       "      <th>210</th>\n",
       "      <th>208</th>\n",
       "      <th>209</th>\n",
       "      <th>212</th>\n",
       "      <th>207</th>\n",
       "      <th>213</th>\n",
       "      <th>206</th>\n",
       "      <th>214</th>\n",
       "      <th>205</th>\n",
       "      <th>...</th>\n",
       "      <th>197</th>\n",
       "      <th>196</th>\n",
       "      <th>223</th>\n",
       "      <th>224</th>\n",
       "      <th>226</th>\n",
       "      <th>195</th>\n",
       "      <th>194</th>\n",
       "      <th>193</th>\n",
       "      <th>227</th>\n",
       "      <th>229</th>\n",
       "    </tr>\n",
       "  </thead>\n",
       "  <tbody>\n",
       "    <tr>\n",
       "      <th>lidar</th>\n",
       "      <td>4409.000000</td>\n",
       "      <td>4355.000000</td>\n",
       "      <td>4261.000000</td>\n",
       "      <td>4228.000000</td>\n",
       "      <td>4201.000000</td>\n",
       "      <td>3920.000000</td>\n",
       "      <td>3897.000000</td>\n",
       "      <td>3674.000000</td>\n",
       "      <td>3572.000000</td>\n",
       "      <td>3225.000000</td>\n",
       "      <td>...</td>\n",
       "      <td>84.000000</td>\n",
       "      <td>59.000</td>\n",
       "      <td>55.000000</td>\n",
       "      <td>32.000000</td>\n",
       "      <td>15.000000</td>\n",
       "      <td>13.00000</td>\n",
       "      <td>10.00000</td>\n",
       "      <td>4.000000</td>\n",
       "      <td>3.000000</td>\n",
       "      <td>1.000000</td>\n",
       "    </tr>\n",
       "    <tr>\n",
       "      <th>probs</th>\n",
       "      <td>0.074744</td>\n",
       "      <td>0.073829</td>\n",
       "      <td>0.072235</td>\n",
       "      <td>0.071676</td>\n",
       "      <td>0.071218</td>\n",
       "      <td>0.066454</td>\n",
       "      <td>0.066064</td>\n",
       "      <td>0.062284</td>\n",
       "      <td>0.060555</td>\n",
       "      <td>0.054672</td>\n",
       "      <td>...</td>\n",
       "      <td>0.001424</td>\n",
       "      <td>0.001</td>\n",
       "      <td>0.000932</td>\n",
       "      <td>0.000542</td>\n",
       "      <td>0.000254</td>\n",
       "      <td>0.00022</td>\n",
       "      <td>0.00017</td>\n",
       "      <td>0.000068</td>\n",
       "      <td>0.000051</td>\n",
       "      <td>0.000017</td>\n",
       "    </tr>\n",
       "  </tbody>\n",
       "</table>\n",
       "<p>2 rows × 35 columns</p>\n",
       "</div>"
      ],
      "text/plain": [
       "               211          210          208          209          212  \\\n",
       "lidar  4409.000000  4355.000000  4261.000000  4228.000000  4201.000000   \n",
       "probs     0.074744     0.073829     0.072235     0.071676     0.071218   \n",
       "\n",
       "               207          213          206          214          205  ...  \\\n",
       "lidar  3920.000000  3897.000000  3674.000000  3572.000000  3225.000000  ...   \n",
       "probs     0.066454     0.066064     0.062284     0.060555     0.054672  ...   \n",
       "\n",
       "             197     196        223        224        226       195       194  \\\n",
       "lidar  84.000000  59.000  55.000000  32.000000  15.000000  13.00000  10.00000   \n",
       "probs   0.001424   0.001   0.000932   0.000542   0.000254   0.00022   0.00017   \n",
       "\n",
       "            193       227       229  \n",
       "lidar  4.000000  3.000000  1.000000  \n",
       "probs  0.000068  0.000051  0.000017  \n",
       "\n",
       "[2 rows x 35 columns]"
      ]
     },
     "execution_count": 11,
     "metadata": {},
     "output_type": "execute_result"
    }
   ],
   "source": [
    "# lidar列に入っている値を要素数で割ることで、頻度の割合を算出\n",
    "# P(z)=m/N\n",
    "freqs[\"probs\"]=freqs[\"lidar\"]/len(data[\"lidar\"])\n",
    "freqs.transpose()"
   ]
  },
  {
   "cell_type": "markdown",
   "metadata": {},
   "source": [
    "上記の表の説明\n",
    "\n",
    "列: 距離値\n",
    "\n",
    "lidar行：各距離値の出現数\n",
    "\n",
    "probs行：各距離値の出現数の割合。全距離値の合計が1になる"
   ]
  },
  {
   "cell_type": "code",
   "execution_count": 12,
   "metadata": {},
   "outputs": [
    {
     "data": {
      "text/plain": [
       "1.0"
      ]
     },
     "execution_count": 12,
     "metadata": {},
     "output_type": "execute_result"
    }
   ],
   "source": [
    "sum(freqs[\"probs\"])"
   ]
  },
  {
   "cell_type": "code",
   "execution_count": 13,
   "metadata": {},
   "outputs": [
    {
     "data": {
      "image/png": "[encoded data removed]",
      "text/plain": [
       "<Figure size 432x288 with 1 Axes>"
      ]
     },
     "metadata": {
      "needs_background": "light"
     },
     "output_type": "display_data"
    }
   ],
   "source": [
    "freqs[\"probs\"].sort_index().plot.bar()\n",
    "plt.show()"
   ]
  },
  {
   "cell_type": "markdown",
   "metadata": {},
   "source": [
    "縦軸が確率に変わったグラフができた。\n",
    "これは個別の確率$P(z)$を与える関数$P$全体を描いたもの。各変数$z$における確率を表したもの。\n",
    "この関数は確率質量関数と呼ばれる。\n",
    "\n",
    "$P:$確率分布＝Pは関数とも言えるので確率質量関数と呼ばれる。\n",
    "\n",
    "$P(z):$確率分布における変数zの確率\n",
    "\n",
    "このように関数$P$に確率変数zを与えてその確率が帰って来る場合、その関数$P$は確率質量関数と呼ばれる。\n",
    "\n",
    "確率質量関数は確率変数が離散型の場合にのみ適用される。\n",
    "\n",
    "確率分布はなんでも$P$で表すことが多いが、さまざまな確率分が数式に登場すると区別を付けたくなる。その場合は変数を明記して$P(z)$と表記したり、由来を右下に付けて$P_{zLiDAR}$と表現したりする。"
   ]
  },
  {
   "cell_type": "markdown",
   "metadata": {},
   "source": [
    "確率分布が求めると、ソフトウェアでセンサー値の発生をシミュレーションできるようになる。"
   ]
  },
  {
   "cell_type": "code",
   "execution_count": 14,
   "metadata": {},
   "outputs": [
    {
     "data": {
      "text/plain": [
       "216"
      ]
     },
     "execution_count": 14,
     "metadata": {},
     "output_type": "execute_result"
    }
   ],
   "source": [
    "# 確率分布から値を生成する簡単な例\n",
    "def drawing():\n",
    "    # データフレームfreqsのprobs列から1つ値をドローする\n",
    "    return freqs.sample(n=1,weights=\"probs\").index[0]\n",
    "\n",
    "drawing()"
   ]
  },
  {
   "cell_type": "markdown",
   "metadata": {},
   "source": [
    "上記の処理は数式上では$z_n{\\sim}P_{zLiDAR}$と表現する。\n",
    "$z_n$は実際に選ばれた値を表す。\n",
    "この処理を確率分布から値をドローすると呼ぶ。\n",
    "似た言葉にサンプリングがある。\n",
    "ドロー＝個々のものを抽出する。\n",
    "サンプリング＝母集団から集団の一部を抽出することを指す。"
   ]
  },
  {
   "cell_type": "code",
   "execution_count": 27,
   "metadata": {},
   "outputs": [
    {
     "data": {
      "image/png": "[encoded data removed]",
      "text/plain": [
       "<Figure size 432x288 with 1 Axes>"
      ]
     },
     "metadata": {
      "needs_background": "light"
     },
     "output_type": "display_data"
    }
   ],
   "source": [
    "# dataの要素数だけドローを行う。\n",
    "samples=[drawing() for i in range(len(data))]\n",
    "# ドローした結果をヒストグラム化\n",
    "simulated=pd.DataFrame(samples,columns=[\"lidar\"])\n",
    "p=simulated[\"lidar\"]\n",
    "p.hist(bins=max(p)-min(p),color=\"orange\",align=\"left\")\n",
    "plt.show()"
   ]
  },
  {
   "cell_type": "markdown",
   "metadata": {},
   "source": [
    "## 2.3 確率モデル\n",
    "\n",
    "### 2.3.1 ガウス分布の当てはめ\n",
    "\n",
    "センサー値のばらつきがガウス分布に従っていると考る。\n",
    "\n",
    "ガウス分布は例えばセンサーの値zがa以上b未満に入る確率を以下の式で表す。\n",
    "\n",
    "$$\n",
    "式(2.7) \\qquad P(a{\\leq}z<b)=\\int_{a}^{b}p(z)dz   \\\\\n",
    "式(2.8) \\qquad p(z)=\\frac{1}{\\sqrt{{2}{\\pi}{\\sigma}^2}}\\exp{\\Biggl(-\\frac{(z-\\mu)^2}{2\\sigma^2}\\Biggr)}\n",
    "$$\n",
    "\n",
    "$p(z)$は変数zがガウス分布に従った場合の確率"
   ]
  },
  {
   "cell_type": "code",
   "execution_count": 16,
   "metadata": {},
   "outputs": [],
   "source": [
    "def p(z,mu=209.7,dev=23.4):\n",
    "    # 式(2.8)\n",
    "    return math.exp(-(z-mu)**2/(2*dev))/math.sqrt(2*math.pi*dev)"
   ]
  },
  {
   "cell_type": "code",
   "execution_count": 17,
   "metadata": {},
   "outputs": [
    {
     "data": {
      "image/png": "[encoded data removed]",
      "text/plain": [
       "<Figure size 432x288 with 1 Axes>"
      ]
     },
     "metadata": {
      "needs_background": "light"
     },
     "output_type": "display_data"
    }
   ],
   "source": [
    "zs=range(190,230)\n",
    "ys=[p(z) for z in zs]\n",
    "plt.plot(zs,ys)\n",
    "plt.show()"
   ]
  },
  {
   "cell_type": "markdown",
   "metadata": {},
   "source": [
    "pを積分して、センサー値が整数に限定される場合の確率分布を作ってみる。[br]\n",
    "センサー値xに対して、区間`[x-0.5,x+0.5)]`の範囲で積分する[br]\n",
    "ただし、式(2.8)は簡単に積分できないのでここで台形公式で近似する。"
   ]
  },
  {
   "cell_type": "code",
   "execution_count": 25,
   "metadata": {},
   "outputs": [
    {
     "data": {
      "image/png": "[encoded data removed]",
      "text/plain": [
       "<Figure size 432x288 with 1 Axes>"
      ]
     },
     "metadata": {
      "needs_background": "light"
     },
     "output_type": "display_data"
    }
   ],
   "source": [
    "# 台形公式で確率を求める関数\n",
    "def prob(z, width=0.5):\n",
    "    # 台形公式=(f(x)+f(x+h))*h/2\n",
    "    # 以下の式を見ると、標準の台形公式ではない？微分の中心差分に似た書き方をしている。\n",
    "    return width*(p(z-width)+p(z+width))\n",
    "\n",
    "zs=range(190,230)\n",
    "ys=[prob(z) for z in zs]\n",
    "plt.bar(zs, ys, color=\"red\", alpha=0.3)\n",
    "# 比較のためにセンサー値の頻度から求めた確率を棒グラフで描画\n",
    "f=freqs[\"probs\"].sort_index()\n",
    "plt.bar(f.index, f.values, color=\"blue\", alpha=0.3)\n",
    "plt.show()"
   ]
  },
  {
   "cell_type": "markdown",
   "metadata": {},
   "source": [
    "ガウス分布は$\\mu,\\sigma^2$を決めると形状が決まってしまうので、式を記述する必要がなければ\n",
    "\n",
    "$$\n",
    "\\Nu(z|\\mu, \\sigma^2)あるいは\\Nu(\\mu,\\sigma^2)\n",
    "$$\n",
    "\n",
    "などと省略される。"
   ]
  },
  {
   "cell_type": "markdown",
   "metadata": {},
   "source": [
    "このようにある現象を説明するために適切な確率分布の数式を持ってきてパラメータを求めることはモデル化と呼ばれる。またモデル化で分布を当てはめられる数式は確率モデルと呼ばれる。"
   ]
  },
  {
   "cell_type": "markdown",
   "metadata": {},
   "source": [
    "## 2.3.2 確率密度関数\n",
    "\n",
    "式(2.8)の関数はガウス分布の確率密度関数(probability density function:pdf)と呼ばれる。確率密度関数は積分すると確率になる関数で、その値は密度と呼ばれる。\n",
    "\n",
    "確率変数が連続型の場合にのみ適用される。\n",
    "\n",
    "連続型なので確率質量関数のように確率変数を指定しても確率は0しか帰らない。例えば、センサー値が実数の場合、値がピッタリ200になるような確率はゼロ。そのため確率は式(2.7)のように、値の範囲に対して与える。"
   ]
  },
  {
   "cell_type": "code",
   "execution_count": 19,
   "metadata": {},
   "outputs": [
    {
     "data": {
      "image/png": "[encoded data removed]",
      "text/plain": [
       "<Figure size 432x288 with 1 Axes>"
      ]
     },
     "metadata": {
      "needs_background": "light"
     },
     "output_type": "display_data"
    }
   ],
   "source": [
    "from scipy.stats import norm\n",
    "\n",
    "zs = range(190,230)\n",
    "# norm.pdf=確率密度関数を求める\n",
    "ys=[norm.pdf(z,mean1,stddev1) for z in zs]\n",
    "\n",
    "plt.plot(zs, ys)\n",
    "plt.show()"
   ]
  },
  {
   "cell_type": "markdown",
   "metadata": {},
   "source": [
    "変数zが実数のとき、確率密度分布pを次のように積分したものは、累積分布関数(cumulative distribution function, cdf)と呼ぶ\n",
    "\n",
    "$$\n",
    "式(2.11) \\qquad P(z<a)=\\int_{-\\infty}^{a}p(z)dz\n",
    "$$"
   ]
  },
  {
   "cell_type": "code",
   "execution_count": 20,
   "metadata": {},
   "outputs": [
    {
     "data": {
      "image/png": "[encoded data removed]",
      "text/plain": [
       "<Figure size 432x288 with 1 Axes>"
      ]
     },
     "metadata": {
      "needs_background": "light"
     },
     "output_type": "display_data"
    }
   ],
   "source": [
    "zs = range(190, 230)\n",
    "# norm.cdf=累積分布関数\n",
    "ys=[norm.cdf(z,mean1,stddev1) for z in zs]\n",
    "plt.plot(zs,ys,color=\"red\")\n",
    "plt.show()"
   ]
  },
  {
   "cell_type": "markdown",
   "metadata": {},
   "source": [
    "さきほど、台形公式で実装した式(2.7)の確率の計算は\n",
    "\n",
    "$$\n",
    "P(a{\\leq}z<b)=\\int_{a}^{b}p(z)dz \\\\\n",
    "             =\\int_{-\\infty}^{b}p(z)dz - \\int_{-\\infty}^{a}p(z)dz \\\\\n",
    "             =P(z<b) - P(z<a) 式(2.12)\n",
    "$$\n",
    "\n",
    "と、確率の差に置き換えることができる。この式（2.12)を使って確率分布を描画すると以下のようになる。"
   ]
  },
  {
   "cell_type": "code",
   "execution_count": 26,
   "metadata": {},
   "outputs": [
    {
     "data": {
      "image/png": "[encoded data removed]",
      "text/plain": [
       "<Figure size 432x288 with 1 Axes>"
      ]
     },
     "metadata": {
      "needs_background": "light"
     },
     "output_type": "display_data"
    }
   ],
   "source": [
    "# 累積分布関数を確率質量関数のように描画\n",
    "zs=range(190,230)\n",
    "ys=[norm.cdf(z+0.5,mean1,stddev1)-norm.cdf(z-0.5,mean1,stddev1) for z in zs]\n",
    "plt.bar(zs,ys)\n",
    "plt.show()"
   ]
  },
  {
   "cell_type": "markdown",
   "metadata": {},
   "source": [
    "確率密度関数は、確率質量関数が大文字Pと表記されるのに対して、多くの場合、区別のために小文字pと表記される。ただし、Pとpはどちらも分布を表す関数なので、本書ではどちらも「確率分布」と呼ぶことがある。さらに、ドローについても$x {\\sim} p$や$x {\\sim} p(x)$などど確率密度関数を使って表現することがある。"
   ]
  },
  {
   "cell_type": "markdown",
   "metadata": {},
   "source": [
    "## 2.3.3 期待値\n",
    "\n",
    "ある変数がある確率分布に従うとき、その変数の期待値が計算できる。期待値は分布$P$について$z \\sim P(z)$を無限に繰り返した場合に、$z$の平均値がどれくらいになるかを表す値です。\n",
    "\n",
    "確率変数zが離散的な場合(確率変数とその確率をかけた値の総和)\n",
    "$$\n",
    "式(2.13) \\qquad \\sum_{z=-\\infty}^{\\infty}zP(z)\n",
    "$$\n",
    "\n",
    "\n",
    "確率変数zが連続的な場合(確率変数と確率をかけた値の積分)\n",
    "$$\n",
    "式(2.14) \\qquad \\int_{z=-\\infty}^{\\infty}zP(z)dx\n",
    "$$"
   ]
  },
  {
   "cell_type": "markdown",
   "metadata": {},
   "source": [
    "期待値は具体的な値をドローしなくとも、分布が決まっていると式(2.13),(2.14)で計算できる。\n",
    "例えば、各目が1/6の確率で出るサイコロの出目の期待値は\n",
    "$$\n",
    "\\sum_{x=1}^{6}x\\frac{1}{6}=\\frac{21}{6}=3.5\n",
    "$$\n",
    "\n",
    "一方、定義通りに値を何回もドローしてサンプリングし、平均を取ることで期待値を近似的に求めることもできる。\n",
    "以下の例では10000回サイコロを降って値の平均を取るコード。"
   ]
  },
  {
   "cell_type": "code",
   "execution_count": 22,
   "metadata": {},
   "outputs": [
    {
     "data": {
      "text/plain": [
       "3.5367"
      ]
     },
     "execution_count": 22,
     "metadata": {},
     "output_type": "execute_result"
    }
   ],
   "source": [
    "import random\n",
    "\n",
    "samples=[random.choice([1,2,3,4,5,6]) for i in range(10000)]\n",
    "sum(samples)/len(samples)"
   ]
  },
  {
   "cell_type": "markdown",
   "metadata": {},
   "source": [
    "$z \\sim p(z)$や$z \\sim P(z)$のとき、zの期待値は\n",
    "$$\n",
    "E_{p(z)}[z],E_{P(z)}[z]あるいは\\langle{z}\\rangle_{p(z)},\\langle{z}\\rangle_{P(z)} \n",
    "$$\n",
    "と表記される。確率変数zの期待値\n",
    "\n",
    "期待値を一般化すると、$z \\sim p(z)$から計算される関数値$f(z)$の期待値を考えることができる。これは\n",
    "$$\n",
    "式(2.16) \\qquad \\langle{f(z)}\\rangle_{p(z)} = \\int_{-\\infty}^{\\infty}f(z)p(z)dz\n",
    "$$\n",
    "と定義できる。このような計算はある確率モデルから別の確率モデルのパラメータを求めるときに頻出する。\n",
    "\n",
    "関数の線形和の期待値は、関数の期待値の線形和と一致する。"
   ]
  },
  {
   "cell_type": "code",
   "execution_count": null,
   "metadata": {},
   "outputs": [],
   "source": []
  }
 ],
 "metadata": {
  "interpreter": {
   "hash": "c48bcc4d0dfd0e92b1084e8c5187e359523a6b7a35f22f93e13027ac3b0222dc"
  },
  "kernelspec": {
   "display_name": "Python 3.8.10 ('.venv': venv)",
   "language": "python",
   "name": "python3"
  },
  "language_info": {
   "codemirror_mode": {
    "name": "ipython",
    "version": 3
   },
   "file_extension": ".py",
   "mimetype": "text/x-python",
   "name": "python",
   "nbconvert_exporter": "python",
   "pygments_lexer": "ipython3",
   "version": "3.8.10"
  },
  "orig_nbformat": 4
 },
 "nbformat": 4,
 "nbformat_minor": 2
}
