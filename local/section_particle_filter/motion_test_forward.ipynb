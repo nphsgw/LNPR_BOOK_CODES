{
 "cells": [
  {
   "cell_type": "code",
   "execution_count": 7,
   "metadata": {},
   "outputs": [],
   "source": [
    "import sys\n",
    "\n",
    "# 推奨された方法ではない。\n",
    "# 参照:https://note.com/iamhacchin/n/n8eb3efafadf9\n",
    "sys.path.append(\"../scripts/\")\n",
    "from robot import *\n"
   ]
  },
  {
   "cell_type": "code",
   "execution_count": 8,
   "metadata": {},
   "outputs": [
    {
     "data": {
      "application/vnd.jupyter.widget-view+json": {
       "model_id": "d926d89834d548e8b2038c55a526b130",
       "version_major": 2,
       "version_minor": 0
      },
      "image/png": "[encoded data removed]",
      "text/html": [
       "\n",
       "            <div style=\"display: inline-block;\">\n",
       "                <div class=\"jupyter-widgets widget-label\" style=\"text-align: center;\">\n",
       "                    Figure\n",
       "                </div>\n",
       "                <img src='data:image/png;base64,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' width=400.0/>\n",
       "            </div>\n",
       "        "
      ],
      "text/plain": [
       "Canvas(toolbar=Toolbar(toolitems=[('Home', 'Reset original view', 'home', 'home'), ('Back', 'Back to previous …"
      ]
     },
     "metadata": {},
     "output_type": "display_data"
    }
   ],
   "source": [
    "import copy\n",
    "\n",
    "world = World(40,0.1)\n",
    "\n",
    "initial_pose=np.array([0,0,0]).T\n",
    "robots=[]\n",
    "r = Robot(initial_pose, sensor=None, agent=Agent(0.1, 0.0))\n",
    "\n",
    "for i in range(100):\n",
    "    # ロボットをコピー\n",
    "    copy_r = copy.copy(r)\n",
    "    # @note distance_until_nose=最初に小石を踏むまでの道のりを指数分布からrvs()を使ってドローしている\n",
    "    # rの生成時点ですでにドローしているが、このままでは全てのロボットが同じ小石を踏むまでの道のりになってしまう。\n",
    "    #　最初にノイズが発生するタイミングを変える\n",
    "    copy_r.distance_until_nose=copy_r.noise_pdf.rvs()\n",
    "    world.append(copy_r) # worldに登録することでアニメーションの際に動く\n",
    "    robots.append(copy_r) # オブジェクトの参照のリストにロボットのオブジェクトを登録\n",
    "\n",
    "%matplotlib widget\n",
    "world.draw()"
   ]
  },
  {
   "cell_type": "markdown",
   "metadata": {},
   "source": [
    "0.1m/sでロボットを4m走らせて移動後の姿勢を記録することを同じロボットで100回繰り返すという実験。"
   ]
  },
  {
   "cell_type": "code",
   "execution_count": 14,
   "metadata": {},
   "outputs": [
    {
     "data": {
      "text/html": [
       "<div>\n",
       "<style scoped>\n",
       "    .dataframe tbody tr th:only-of-type {\n",
       "        vertical-align: middle;\n",
       "    }\n",
       "\n",
       "    .dataframe tbody tr th {\n",
       "        vertical-align: top;\n",
       "    }\n",
       "\n",
       "    .dataframe thead th {\n",
       "        text-align: right;\n",
       "    }\n",
       "</style>\n",
       "<table border=\"1\" class=\"dataframe\">\n",
       "  <thead>\n",
       "    <tr style=\"text-align: right;\">\n",
       "      <th></th>\n",
       "      <th>0</th>\n",
       "      <th>1</th>\n",
       "      <th>2</th>\n",
       "      <th>3</th>\n",
       "      <th>4</th>\n",
       "      <th>5</th>\n",
       "      <th>6</th>\n",
       "      <th>7</th>\n",
       "      <th>8</th>\n",
       "      <th>9</th>\n",
       "      <th>...</th>\n",
       "      <th>90</th>\n",
       "      <th>91</th>\n",
       "      <th>92</th>\n",
       "      <th>93</th>\n",
       "      <th>94</th>\n",
       "      <th>95</th>\n",
       "      <th>96</th>\n",
       "      <th>97</th>\n",
       "      <th>98</th>\n",
       "      <th>99</th>\n",
       "    </tr>\n",
       "  </thead>\n",
       "  <tbody>\n",
       "    <tr>\n",
       "      <th>r</th>\n",
       "      <td>4.530878</td>\n",
       "      <td>4.525854</td>\n",
       "      <td>4.509220</td>\n",
       "      <td>4.524445</td>\n",
       "      <td>4.531935</td>\n",
       "      <td>4.508614</td>\n",
       "      <td>4.527654</td>\n",
       "      <td>4.533844</td>\n",
       "      <td>4.524407</td>\n",
       "      <td>4.522666</td>\n",
       "      <td>...</td>\n",
       "      <td>4.515181</td>\n",
       "      <td>4.518718</td>\n",
       "      <td>4.53406</td>\n",
       "      <td>4.457491</td>\n",
       "      <td>4.508261</td>\n",
       "      <td>4.526666</td>\n",
       "      <td>4.531747</td>\n",
       "      <td>4.510651</td>\n",
       "      <td>4.518533</td>\n",
       "      <td>4.530198</td>\n",
       "    </tr>\n",
       "    <tr>\n",
       "      <th>theta</th>\n",
       "      <td>0.014383</td>\n",
       "      <td>0.035881</td>\n",
       "      <td>-0.304591</td>\n",
       "      <td>-0.205639</td>\n",
       "      <td>-0.090456</td>\n",
       "      <td>-0.445815</td>\n",
       "      <td>0.061395</td>\n",
       "      <td>-0.083805</td>\n",
       "      <td>-0.013606</td>\n",
       "      <td>0.013413</td>\n",
       "      <td>...</td>\n",
       "      <td>0.177115</td>\n",
       "      <td>-0.203988</td>\n",
       "      <td>-0.05921</td>\n",
       "      <td>-0.352342</td>\n",
       "      <td>-0.339301</td>\n",
       "      <td>0.072394</td>\n",
       "      <td>-0.047303</td>\n",
       "      <td>-0.334229</td>\n",
       "      <td>-0.289945</td>\n",
       "      <td>0.051970</td>\n",
       "    </tr>\n",
       "  </tbody>\n",
       "</table>\n",
       "<p>2 rows × 100 columns</p>\n",
       "</div>"
      ],
      "text/plain": [
       "             0         1         2         3         4         5         6   \\\n",
       "r      4.530878  4.525854  4.509220  4.524445  4.531935  4.508614  4.527654   \n",
       "theta  0.014383  0.035881 -0.304591 -0.205639 -0.090456 -0.445815  0.061395   \n",
       "\n",
       "             7         8         9   ...        90        91       92  \\\n",
       "r      4.533844  4.524407  4.522666  ...  4.515181  4.518718  4.53406   \n",
       "theta -0.083805 -0.013606  0.013413  ...  0.177115 -0.203988 -0.05921   \n",
       "\n",
       "             93        94        95        96        97        98        99  \n",
       "r      4.457491  4.508261  4.526666  4.531747  4.510651  4.518533  4.530198  \n",
       "theta -0.352342 -0.339301  0.072394 -0.047303 -0.334229 -0.289945  0.051970  \n",
       "\n",
       "[2 rows x 100 columns]"
      ]
     },
     "execution_count": 14,
     "metadata": {},
     "output_type": "execute_result"
    }
   ],
   "source": [
    "import pandas as pd\n",
    "\n",
    "# r=各ロボットの移動量\n",
    "# theta=各ロボットの向き\n",
    "poses = pd.DataFrame(\n",
    "    [[math.sqrt(r.pose[0] ** 2 + r.pose[1] ** 2), r.pose[2]] for r in robots],\n",
    "    columns=[\"r\", \"theta\"],\n",
    ")\n",
    "poses.transpose()"
   ]
  },
  {
   "cell_type": "code",
   "execution_count": 15,
   "metadata": {},
   "outputs": [
    {
     "name": "stdout",
     "output_type": "stream",
     "text": [
      "0.054550481403616805\n",
      "4.515955852273942\n"
     ]
    },
    {
     "data": {
      "text/plain": [
       "0.10990677131289794"
      ]
     },
     "execution_count": 15,
     "metadata": {},
     "output_type": "execute_result"
    }
   ],
   "source": [
    "print(poses[\"theta\"].var())\n",
    "print(poses[\"r\"].mean())\n",
    "math.sqrt(poses[\"theta\"].var()/poses[\"r\"].mean())"
   ]
  },
  {
   "cell_type": "markdown",
   "metadata": {},
   "source": [
    "分散の大きさがロボットが進んだ道のりに比例するなら1mあたりの分散は1行目を2行目で割った値になり、標準偏差$\\sigma_{\\omega\\nu}$は正の平方根となる。"
   ]
  }
 ],
 "metadata": {
  "interpreter": {
   "hash": "c48bcc4d0dfd0e92b1084e8c5187e359523a6b7a35f22f93e13027ac3b0222dc"
  },
  "kernelspec": {
   "display_name": "Python 3.8.10 ('.venv': venv)",
   "language": "python",
   "name": "python3"
  },
  "language_info": {
   "codemirror_mode": {
    "name": "ipython",
    "version": 3
   },
   "file_extension": ".py",
   "mimetype": "text/x-python",
   "name": "python",
   "nbconvert_exporter": "python",
   "pygments_lexer": "ipython3",
   "version": "3.8.10"
  },
  "orig_nbformat": 4
 },
 "nbformat": 4,
 "nbformat_minor": 2
}
