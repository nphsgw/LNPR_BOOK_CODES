{
 "cells": [
  {
   "cell_type": "code",
   "execution_count": 3,
   "metadata": {},
   "outputs": [],
   "source": [
    "import sys\n",
    "\n",
    "# 推奨された方法ではない。\n",
    "# 参照:https://note.com/iamhacchin/n/n8eb3efafadf9\n",
    "sys.path.append(\"../scripts/\")\n",
    "from robot import *\n",
    "from scipy.stats import multivariate_normal"
   ]
  },
  {
   "cell_type": "code",
   "execution_count": 4,
   "metadata": {},
   "outputs": [],
   "source": [
    "class Particle:\n",
    "    def __init__(self, init_pose):\n",
    "        self.pose = init_pose\n"
   ]
  },
  {
   "cell_type": "code",
   "execution_count": 5,
   "metadata": {},
   "outputs": [],
   "source": [
    "class Mcl:\n",
    "    def __init__(self, init_pose, num, motion_noise_stds):\n",
    "        # 初期位置が同じパーティクルobjectをnum個生成\n",
    "        self.particles = [Particle(init_pose) for i in range(num)]\n",
    "\n",
    "        # motion_noise_stdsは式(5.9)のσabに対応する\n",
    "        v = motion_noise_stds\n",
    "        # np.diagは与えられたリストの要素を対角成分に持つ対角行列を作って返す。\n",
    "        c = np.diag([v[\"nn\"]**2, v[\"no\"]**2, v[\"on\"]**2, v[\"oo\"]**2])\n",
    "        self.motion_noise_rate_pdf=multivariate_normal(cov=c)\n",
    "\n",
    "    def motion_update(self, nu, omega, time):\n",
    "        # 今はデバッグのために作成したガウス分布の共分散行列を出力するだけにする\n",
    "        print(self.motion_noise_rate_pdf.cov)\n",
    "\n",
    "    def draw(self, ax, elems):\n",
    "        # particleのx座標\n",
    "        xs = [p.pose[0] for p in self.particles]\n",
    "        # particleのy座標\n",
    "        ys = [p.pose[1] for p in self.particles]\n",
    "        # particleの向きを矢印として描画するための要素x,y\n",
    "        vxs = [math.cos(p.pose[2]) for p in self.particles]\n",
    "        vys = [math.sin(p.pose[2]) for p in self.particles]\n",
    "\n",
    "        elems.append(ax.quiver(xs, ys, vxs, vys, color=\"blue\", alpha=0.5))\n"
   ]
  },
  {
   "cell_type": "code",
   "execution_count": 6,
   "metadata": {},
   "outputs": [],
   "source": [
    "class EstimationAgent(Agent):\n",
    "    def __init__(self, time_interval, nu, omega, estimator):\n",
    "        super().__init__(nu, omega)\n",
    "        self.estimator = estimator\n",
    "        self.time_interval = time_interval\n",
    "\n",
    "    def draw(self, ax, elems):\n",
    "        self.estimator.draw(ax, elems)\n"
   ]
  },
  {
   "cell_type": "code",
   "execution_count": 7,
   "metadata": {},
   "outputs": [
    {
     "name": "stdout",
     "output_type": "stream",
     "text": [
      "[[0.0001 0.     0.     0.    ]\n",
      " [0.     0.0004 0.     0.    ]\n",
      " [0.     0.     0.0009 0.    ]\n",
      " [0.     0.     0.     0.0016]]\n"
     ]
    }
   ],
   "source": [
    "world = World(30,0.1)\n",
    "\n",
    "m = Map()\n",
    "for ln in [(-4,2),(2,-3),(3,3,)]:\n",
    "    m.append_landmark(Landmark(*ln))\n",
    "world.append(m)\n",
    "\n",
    "initial_pose=np.array([2,2,math.pi/6]).T\n",
    "estimator=Mcl(initial_pose,100)\n",
    "circling=EstimationAgent(0.2, 10.0/180*math.pi,estimator)\n",
    "r = Robot(initial_pose, sensor=Camera(m), agent=circling)\n",
    "world.append(r)\n",
    "\n",
    "%matplotlib widget\n",
    "world.draw()"
   ]
  },
  {
   "cell_type": "code",
   "execution_count": 8,
   "metadata": {},
   "outputs": [
    {
     "name": "stdout",
     "output_type": "stream",
     "text": [
      "[[0.0001 0.     0.     0.    ]\n",
      " [0.     0.0004 0.     0.    ]\n",
      " [0.     0.     0.0009 0.    ]\n",
      " [0.     0.     0.     0.0016]]\n"
     ]
    }
   ],
   "source": [
    "initial_pose = np.array([0,0,0]).T\n",
    "estimator = Mcl(initial_pose, 100,motion_noise_stds={\"nn\":0.01,\"no\":0.02,\"on\":0.03,\"oo\":0.04})\n",
    "a = EstimationAgent(0.1,0.2,10/180*math.pi, estimator)\n",
    "estimator.motion_update(0.2, 10/180/math.pi,0.1)"
   ]
  },
  {
   "cell_type": "code",
   "execution_count": null,
   "metadata": {},
   "outputs": [],
   "source": []
  }
 ],
 "metadata": {
  "interpreter": {
   "hash": "c48bcc4d0dfd0e92b1084e8c5187e359523a6b7a35f22f93e13027ac3b0222dc"
  },
  "kernelspec": {
   "display_name": "Python 3.8.10 ('.venv': venv)",
   "language": "python",
   "name": "python3"
  },
  "language_info": {
   "codemirror_mode": {
    "name": "ipython",
    "version": 3
   },
   "file_extension": ".py",
   "mimetype": "text/x-python",
   "name": "python",
   "nbconvert_exporter": "python",
   "pygments_lexer": "ipython3",
   "version": "3.8.10"
  },
  "orig_nbformat": 4
 },
 "nbformat": 4,
 "nbformat_minor": 2
}
