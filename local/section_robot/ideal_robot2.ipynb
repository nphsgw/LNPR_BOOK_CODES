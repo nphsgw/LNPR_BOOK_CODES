{
 "cells": [
  {
   "cell_type": "code",
   "execution_count": 11,
   "metadata": {},
   "outputs": [],
   "source": [
    "import matplotlib.pyplot as plt\n",
    "import math\n",
    "import matplotlib.patches as patches\n",
    "import numpy as np\n"
   ]
  },
  {
   "cell_type": "code",
   "execution_count": 12,
   "metadata": {},
   "outputs": [],
   "source": [
    "class World:\n",
    "    def __init__(self):\n",
    "        self.objects = []  # ここにロボットなどのオブジェクトを登録する\n",
    "\n",
    "    def append(self, obj):  # オブジェクトを登録するための関数\n",
    "        self.objects.append(obj)\n",
    "\n",
    "    def draw(self):\n",
    "        fig = plt.figure(figsize=(8, 8))  # 8x8inchの図を準備\n",
    "        # figureの中に座標系を描画するにはサブプロットというオブジェクトを作る必要がある。\n",
    "        # 111=figの中にサブプロットを1行1列で並べて、今作っているのは1番目という意味\n",
    "        # figureの中にはサブプロットが1つだけ作成される\n",
    "        ax = fig.add_subplot(111)  # サブプロットを準備\n",
    "        ax.set_aspect(\"equal\")  # 縦横比を座標の値と一致させる\n",
    "        ax.set_xlim(-5, 5)  # X軸を-5m~5mの範囲で描画\n",
    "        ax.set_ylim(-5, 5)  # Y軸も同じ\n",
    "        ax.set_xlabel(\"X\", fontsize=20)  # X軸にラベルを表示\n",
    "        ax.set_ylabel(\"Y\", fontsize=20)  # Y軸も同様に\n",
    "\n",
    "        # appendしたobjectを描画\n",
    "        for obj in self.objects:\n",
    "            obj.draw(ax)\n",
    "\n",
    "        plt.show()\n"
   ]
  },
  {
   "cell_type": "code",
   "execution_count": 13,
   "metadata": {},
   "outputs": [],
   "source": [
    "class IdealRobot:\n",
    "    def __init__(self, pose, color=\"black\"):\n",
    "        # 引数で指定された姿勢を初期値に設定\n",
    "        self.pose = pose\n",
    "        # ロボットのサイズは固定値\n",
    "        self.r = 0.2\n",
    "        # 引数で指定されたカラーを初期値に設定\n",
    "        self.color = color\n",
    "\n",
    "    def draw(self, ax):\n",
    "        # 姿勢の変数を分解して3つの変数に格納\n",
    "        x, y, theta = self.pose\n",
    "        # ロボットの鼻先のx座標\n",
    "        xn = x + self.r * math.cos(theta)\n",
    "        # ロボットの鼻先のy座標\n",
    "        yn = y + self.r * math.sin(theta)\n",
    "        # ロボットの向きを示す線分の描画\n",
    "        ax.plot([x, xn], [y, yn], color=self.color)\n",
    "        c = patches.Circle(xy=(x, y), radius=self.r, fill=False, color=self.color)\n",
    "        # patches.Circleで作成したロボットをサブプロットへ登録\n",
    "        ax.add_patch(c)\n"
   ]
  },
  {
   "cell_type": "code",
   "execution_count": 14,
   "metadata": {},
   "outputs": [
    {
     "data": {
      "image/png": "[encoded data removed]",
      "text/plain": [
       "<Figure size 576x576 with 1 Axes>"
      ]
     },
     "metadata": {
      "needs_background": "light"
     },
     "output_type": "display_data"
    }
   ],
   "source": [
    "world = World()\n",
    "robot1=IdealRobot(np.array([2,3,math.pi/6]).T)\n",
    "robot2=IdealRobot(np.array([-2,1,math.pi/5*6]).T,\"red\")\n",
    "world.append(robot1)\n",
    "world.append(robot2)\n",
    "world.draw()\n"
   ]
  },
  {
   "cell_type": "code",
   "execution_count": null,
   "metadata": {},
   "outputs": [],
   "source": []
  }
 ],
 "metadata": {
  "interpreter": {
   "hash": "c48bcc4d0dfd0e92b1084e8c5187e359523a6b7a35f22f93e13027ac3b0222dc"
  },
  "kernelspec": {
   "display_name": "Python 3.8.10 ('.venv': venv)",
   "language": "python",
   "name": "python3"
  },
  "language_info": {
   "codemirror_mode": {
    "name": "ipython",
    "version": 3
   },
   "file_extension": ".py",
   "mimetype": "text/x-python",
   "name": "python",
   "nbconvert_exporter": "python",
   "pygments_lexer": "ipython3",
   "version": "3.8.10"
  },
  "orig_nbformat": 4
 },
 "nbformat": 4,
 "nbformat_minor": 2
}
