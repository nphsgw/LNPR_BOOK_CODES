{
 "cells": [
  {
   "cell_type": "code",
   "execution_count": 1,
   "metadata": {},
   "outputs": [],
   "source": [
    "import matplotlib.pyplot as plt\n"
   ]
  },
  {
   "cell_type": "code",
   "execution_count": 4,
   "metadata": {},
   "outputs": [],
   "source": [
    "class World:\n",
    "    def __init__(self):\n",
    "        self.objects = []  # ここにロボットなどのオブジェクトを登録する\n",
    "\n",
    "    def append(self, obj):  # オブジェクトを登録するための関数\n",
    "        self.objects.append()\n",
    "\n",
    "    def draw(self):\n",
    "        fig = plt.figure(figsize=(8, 8))  # 8x8inchの図を準備\n",
    "        # figureの中に座標系を描画するにはサブプロットというオブジェクトを作る必要がある。\n",
    "        # 111=figの中にサブプロットを1行1列で並べて、今作っているのは1番目という意味\n",
    "        # figureの中にはサブプロットが1つだけ作成される\n",
    "        ax = fig.add_subplot(111)  # サブプロットを準備\n",
    "        ax.set_aspect(\"equal\")  # 縦横比を座標の値と一致させる\n",
    "        ax.set_xlim(-5, 5)  # X軸を-5m~5mの範囲で描画\n",
    "        ax.set_ylim(-5, 5)  # Y軸も同じ\n",
    "        ax.set_xlabel(\"X\", fontsize=20)  # X軸にラベルを表示\n",
    "        ax.set_ylabel(\"Y\", fontsize=20)  # Y軸も同様に\n",
    "\n",
    "        # appendしたobjectを描画\n",
    "        for obj in self.objects:\n",
    "            obj.draw(ax)\n",
    "\n",
    "        plt.show()\n"
   ]
  },
  {
   "cell_type": "code",
   "execution_count": 5,
   "metadata": {},
   "outputs": [
    {
     "data": {
      "image/png": "[encoded data removed]",
      "text/plain": [
       "<Figure size 576x576 with 1 Axes>"
      ]
     },
     "metadata": {
      "needs_background": "light"
     },
     "output_type": "display_data"
    }
   ],
   "source": [
    "world=World()\n",
    "world.draw()"
   ]
  },
  {
   "cell_type": "code",
   "execution_count": null,
   "metadata": {},
   "outputs": [],
   "source": []
  }
 ],
 "metadata": {
  "interpreter": {
   "hash": "c48bcc4d0dfd0e92b1084e8c5187e359523a6b7a35f22f93e13027ac3b0222dc"
  },
  "kernelspec": {
   "display_name": "Python 3.8.10 ('.venv': venv)",
   "language": "python",
   "name": "python3"
  },
  "language_info": {
   "codemirror_mode": {
    "name": "ipython",
    "version": 3
   },
   "file_extension": ".py",
   "mimetype": "text/x-python",
   "name": "python",
   "nbconvert_exporter": "python",
   "pygments_lexer": "ipython3",
   "version": "3.8.10"
  },
  "orig_nbformat": 4
 },
 "nbformat": 4,
 "nbformat_minor": 2
}
