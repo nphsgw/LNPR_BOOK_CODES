{
 "cells": [
  {
   "cell_type": "code",
   "execution_count": 3,
   "metadata": {},
   "outputs": [
    {
     "name": "stdout",
     "output_type": "stream",
     "text": [
      "(200, 2)\n",
      "[3.00348526 5.00242366]\n",
      "[[ 4.04815817 -1.02221652]\n",
      " [-1.02221652  0.91061438]]\n",
      "<scipy.stats._multivariate.multivariate_normal_frozen object at 0x7fae2e7798b0>\n",
      "(200, 2)\n",
      "[3.15020964 4.93796271]\n",
      "[[ 3.92824383 -1.08416182]\n",
      " [-1.08416182  0.96414932]]\n"
     ]
    },
    {
     "data": {
      "text/plain": [
       "'\\n[[ 4.46151626 -1.28084696]\\n [-1.28084696  1.06831954]]\\n'"
      ]
     },
     "execution_count": 3,
     "metadata": {},
     "output_type": "execute_result"
    }
   ],
   "source": [
    "import numpy as np\n",
    "from scipy.stats import multivariate_normal\n",
    "\n",
    "# 期待値と分散共分散行列の準備\n",
    "mean = np.array([3, 5])\n",
    "cov = np.array([[4, -1.2], [-1.2, 1]])\n",
    "\n",
    "# numpy を用いた生成\n",
    "data_1 = np.random.multivariate_normal(mean, cov, size=200)\n",
    "\n",
    "# データ型の確認\n",
    "print(data_1.shape)\n",
    "# (200, 2)\n",
    "\n",
    "# 期待値の確認\n",
    "print(np.mean(data_1, axis=0))\n",
    "# [3.00496708 4.94669956]\n",
    "\n",
    "# 分散共分散の確認\n",
    "print(np.cov(data_1, rowvar=False))\n",
    "\"\"\"\n",
    "[[ 3.86542859 -1.31389501]\n",
    " [-1.31389501  0.93002097]]\n",
    "\"\"\"\n",
    "\n",
    "# scipyで生成する方法\n",
    "data_2 = multivariate_normal(mean, cov).rvs(size=200)\n",
    "print(multivariate_normal(mean, cov))\n",
    "print(multivariate_normal(mean, cov).pdf())\n",
    "# データ型の確認\n",
    "print(data_2.shape)\n",
    "# (200, 2)\n",
    "\n",
    "# 期待値の確認\n",
    "print(np.mean(data_2, axis=0))\n",
    "# [2.81459692 5.10444347]\n",
    "\n",
    "# 分散共分散の確認\n",
    "print(np.cov(data_2, rowvar=False))\n",
    "\"\"\"\n",
    "[[ 4.46151626 -1.28084696]\n",
    " [-1.28084696  1.06831954]]\n",
    "\"\"\""
   ]
  },
  {
   "cell_type": "code",
   "execution_count": null,
   "metadata": {},
   "outputs": [],
   "source": []
  }
 ],
 "metadata": {
  "kernelspec": {
   "display_name": "Python 3",
   "language": "python",
   "name": "python3"
  },
  "language_info": {
   "codemirror_mode": {
    "name": "ipython",
    "version": 3
   },
   "file_extension": ".py",
   "mimetype": "text/x-python",
   "name": "python",
   "nbconvert_exporter": "python",
   "pygments_lexer": "ipython3",
   "version": "3.8.10 (default, Jun 22 2022, 20:18:18) \n[GCC 9.4.0]"
  },
  "orig_nbformat": 4,
  "vscode": {
   "interpreter": {
    "hash": "916dbcbb3f70747c44a77c7bcd40155683ae19c65e1c03b4aa3499c5328201f1"
   }
  }
 },
 "nbformat": 4,
 "nbformat_minor": 2
}
