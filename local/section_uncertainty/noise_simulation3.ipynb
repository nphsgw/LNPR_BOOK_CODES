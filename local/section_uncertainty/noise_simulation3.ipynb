{
 "cells": [
  {
   "cell_type": "code",
   "execution_count": 5,
   "metadata": {},
   "outputs": [],
   "source": [
    "import sys\n",
    "\n",
    "# 推奨された方法ではない。\n",
    "# 参照:https://note.com/iamhacchin/n/n8eb3efafadf9\n",
    "sys.path.append(\"../scripts/\")\n",
    "from ideal_robot import *\n",
    "from scipy.stats import expon, norm\n"
   ]
  },
  {
   "cell_type": "code",
   "execution_count": 6,
   "metadata": {},
   "outputs": [],
   "source": [
    "# 移動速度へのバイアスを実装\n",
    "class Robot(IdealRobot):\n",
    "    def __init__(\n",
    "        self,\n",
    "        pose,\n",
    "        agent=None,\n",
    "        sensor=None,\n",
    "        color=\"black\",\n",
    "        noise_per_meter=5,\n",
    "        noise_std=math.pi / 60,\n",
    "        bias_rate_stds=(0.1, 0.1),\n",
    "    ):\n",
    "        \"\"\"コンストラクタ\n",
    "\n",
    "        Args:\n",
    "            pose (_type_): _description_\n",
    "            agent (_type_, optional): _description_. Defaults to None.\n",
    "            sensor (_type_, optional): _description_. Defaults to None.\n",
    "            color (str, optional): _description_. Defaults to \"black\".\n",
    "            noise_per_meter (int, optional): 1mあたりの小石の数. Defaults to 5.\n",
    "            noise_std (_type_, optional): 小石を踏んだときにロボットの向きθに発生するノイズの標準偏差[deg]. Defaults to math.pi/60.\n",
    "            bias_rate_stds (_type_, optional): 移動速度に付与するバイアス係数を生成するためのガウス分布の標準偏差. Defaults to (0.1,0.1)\n",
    "        \"\"\"\n",
    "        super().__init__(pose, agent, sensor, color)\n",
    "        # 指数分布のオブジェクト生成\n",
    "        # scaleはλの逆数に相当する。1e-100はゼロ割を防止するためのテクニック\n",
    "        self.noise_pdf = expon(scale=1.0 / (1e-100 + noise_per_meter))\n",
    "        # 最初に小石を踏むまでの道のりを指数分布からrvs()を使ってドローしている\n",
    "        self.distance_until_noise = self.noise_pdf.rvs()\n",
    "        # θに加えるノイズを決めるためのガウス分布のオブジェクトを生成\n",
    "        self.theta_noise = norm(scale=noise_std)\n",
    "        # 移動速度、角速度のバイアスを生成＝ガウス分布からドロー\n",
    "        self.bias_rate_nu = norm.rvs(loc=1.0, scale=bias_rate_stds[0])\n",
    "        self.bias_rate_omega = norm.rvs(loc=1.0, scale=bias_rate_stds[1])\n",
    "\n",
    "    def noise(self, pose, nu, omega, time_interval):\n",
    "\n",
    "        # このメソッドが呼ばれるたびにdistance_until_noiseを経過時間分だけ減らす。\n",
    "        # abs(nu) * time_interval = 速度nu[m/s]をtime_interval間続けたとき、つまり直進方向の移動距離[m]\n",
    "        # self.r * abs(omega) * time_interval = 半径r[m]のロボットが角速度omega[rad/s]をtime_interval間続けたとき、つまり回転方向の移動距離[m]\n",
    "        # @note 回転方向の速度vはr*omegaで得られる。速度vに時間をかけて移動距離を算出\n",
    "        self.distance_until_noise -= (\n",
    "            abs(nu) * time_interval + self.r * abs(omega) * time_interval\n",
    "        )\n",
    "\n",
    "        # 0以下なら小石を踏んだを判定\n",
    "        if self.distance_until_noise <= 0.0:\n",
    "            # 新しい小石を踏むまでの道のりを生成\n",
    "            self.distance_until_noise += self.noise_pdf.rvs()\n",
    "            # ロボットの向きにノイズを付与\n",
    "            pose[2] += self.theta_noise.rvs()\n",
    "\n",
    "        return pose\n",
    "\n",
    "    def bias(self, nu, omega):\n",
    "        return nu * self.bias_rate_nu, omega * self.bias_rate_omega\n",
    "\n",
    "    def one_step(self, time_interval):\n",
    "        if not self.agent:\n",
    "            return\n",
    "        if self.sensor:\n",
    "            obs = self.sensor.data(self.pose)\n",
    "        else:\n",
    "            obs = None\n",
    "        nu, omega = self.agent.decision(obs)\n",
    "        nu, omega = self.bias(nu, omega)\n",
    "        self.pose = self.state_transition(nu, omega, time_interval, self.pose)\n",
    "        # noiseを実行する行を追加\n",
    "        self.pose = self.noise(self.pose, nu, omega, time_interval)\n"
   ]
  },
  {
   "cell_type": "code",
   "execution_count": 8,
   "metadata": {},
   "outputs": [
    {
     "data": {
      "application/vnd.jupyter.widget-view+json": {
       "model_id": "12463137ce0e4bd2a9301c0797320264",
       "version_major": 2,
       "version_minor": 0
      },
      "image/png": "[encoded data removed]",
      "text/html": [
       "\n",
       "            <div style=\"display: inline-block;\">\n",
       "                <div class=\"jupyter-widgets widget-label\" style=\"text-align: center;\">\n",
       "                    Figure\n",
       "                </div>\n",
       "                <img src='data:image/png;base64,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' width=400.0/>\n",
       "            </div>\n",
       "        "
      ],
      "text/plain": [
       "Canvas(toolbar=Toolbar(toolitems=[('Home', 'Reset original view', 'home', 'home'), ('Back', 'Back to previous …"
      ]
     },
     "metadata": {},
     "output_type": "display_data"
    }
   ],
   "source": [
    "import copy\n",
    "\n",
    "world = World(30, 0.1)\n",
    "circling=Agent(0.2, 10.0/180*math.pi)\n",
    "nobias_robot=IdealRobot(np.array([0,0,0]).T, sensor=None, agent=circling, color=\"gray\")\n",
    "world.append(nobias_robot)\n",
    "biased_robot=Robot(np.array([0,0,0]).T, sensor=None, agent=circling, color=\"red\", noise_per_meter=0,bias_rate_stds=(0.5,0.5))\n",
    "world.append(biased_robot)\n",
    "%matplotlib widget\n",
    "world.draw()"
   ]
  },
  {
   "cell_type": "markdown",
   "metadata": {},
   "source": [
    "\n",
    "指数分布の確率密度関数の式(4.1)\n",
    "$$\n",
    "p(x|\\lambda) = {\\lambda}{e}^{-{\\lambda}{x}}\n",
    "$$\n",
    "\n",
    "Robotクラスでは上記の式を用いて、環境にランダムに小石が落ちておりそれを踏んだ直後にロボットの向きθをランダムにずらすプログラムを実装している。\n",
    "\n",
    "$\\lambda$は道のりあたりに踏みつける小石の数の期待値に相当する。逆数の$1/\\lambda$は小石１つ踏みつけるまでの道のりの期待値に相当する。"
   ]
  },
  {
   "cell_type": "code",
   "execution_count": null,
   "metadata": {},
   "outputs": [],
   "source": []
  }
 ],
 "metadata": {
  "interpreter": {
   "hash": "c48bcc4d0dfd0e92b1084e8c5187e359523a6b7a35f22f93e13027ac3b0222dc"
  },
  "kernelspec": {
   "display_name": "Python 3.8.10 ('.venv': venv)",
   "language": "python",
   "name": "python3"
  },
  "language_info": {
   "codemirror_mode": {
    "name": "ipython",
    "version": 3
   },
   "file_extension": ".py",
   "mimetype": "text/x-python",
   "name": "python",
   "nbconvert_exporter": "python",
   "pygments_lexer": "ipython3",
   "version": "3.8.10"
  },
  "orig_nbformat": 4
 },
 "nbformat": 4,
 "nbformat_minor": 2
}
