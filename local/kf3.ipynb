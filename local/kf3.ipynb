{
 "cells": [
  {
   "cell_type": "code",
   "execution_count": 1,
   "metadata": {},
   "outputs": [],
   "source": [
    "import sys  ###kfheader\n",
    "\n",
    "sys.path.append(\"..\")\n",
    "from scripts.mcl import *\n",
    "from scipy.stats import multivariate_normal  # 追加（多変量ガウス分布のモジュール。既出）\n",
    "from matplotlib.patches import Ellipse  #  追加\n",
    "import math\n",
    "import numpy as np\n"
   ]
  },
  {
   "cell_type": "code",
   "execution_count": 2,
   "metadata": {},
   "outputs": [],
   "source": [
    "def sigma_ellipse(p, cov, n):\n",
    "    \"\"\"誤差楕円を返す\n",
    "\n",
    "    Args:\n",
    "        p (_type_): _description_\n",
    "        conv (_type_): _description_\n",
    "        n (_type_): _description_\n",
    "\n",
    "    Returns:\n",
    "        _type_: _description_\n",
    "    \"\"\"\n",
    "    # 共分散行列covの固有値\n",
    "    # linalg.eigは行列の固有値、固有ベクトルを求める関数\n",
    "    eig_vals, eig_vec = np.linalg.eig(cov)\n",
    "    # 楕円の傾きを計算\n",
    "    ang = math.atan2(eig_vec[:, 0][1], eig_vec[:, 0][0]) / math.pi * 180\n",
    "    # 楕円オブジェクトを返す.fill引数は楕円を塗りつぶすかどうか。falseなので塗りつぶさない。\n",
    "    return Ellipse(\n",
    "        p,\n",
    "        width=2 * n * math.sqrt(eig_vals[0]),\n",
    "        height=2 * n * math.sqrt(eig_vals[1]),\n",
    "        angle=ang,\n",
    "        fill=False,\n",
    "        color=\"blue\",\n",
    "        alpha=0.5,\n",
    "    )\n",
    "\n",
    "\n",
    "def matM(nu, omega, time, stds):\n",
    "    return np.diag(\n",
    "        [\n",
    "            stds[\"nn\"] ** 2 + abs(nu) / time + stds[\"no\"] ** 2 * abs(omega) / time,\n",
    "            stds[\"on\"] ** 2 * abs(nu) / time + stds[\"oo\"] ** 2 * abs(omega) / time,\n",
    "        ]\n",
    "    )\n",
    "\n",
    "\n",
    "def matA(nu, omega, time, theta):\n",
    "    st, ct = math.sin(theta), math.cos(theta)\n",
    "    stw, ctw = math.sin(theta + omega * time), math.cos(theta + omega * time)\n",
    "    return np.array(\n",
    "        [\n",
    "            [\n",
    "                (stw - st) / omega,\n",
    "                -nu / (omega**2) * (stw - st) + nu / omega * time * ctw,\n",
    "            ],\n",
    "            [\n",
    "                (-ctw + ct) / omega,\n",
    "                -nu / (omega**2) * (-ctw + ct) + nu / omega * time * stw,\n",
    "            ],\n",
    "            [0, time],\n",
    "        ]\n",
    "    )\n",
    "\n",
    "\n",
    "def matF(nu, omega, time, theta):\n",
    "    F = np.diag([1.0, 1.0, 1.0])\n",
    "    F[0, 2] = nu / omega * (math.cos(theta + omega * time) - math.cos(theta))\n",
    "    F[1, 2] = nu / omega * (math.sin(theta + omega * time) - math.sin(theta))\n",
    "    return F\n"
   ]
  },
  {
   "cell_type": "code",
   "execution_count": 3,
   "metadata": {},
   "outputs": [],
   "source": [
    "class KalmanFilter:\n",
    "    def __init__(\n",
    "        self,\n",
    "        envmap,\n",
    "        init_pose,\n",
    "        motion_noise_stds={\"nn\": 0.19, \"no\": 0.001, \"on\": 0.13, \"oo\": 0.2},\n",
    "    ):\n",
    "        # 信念分布を表すガウス分布を作成\n",
    "        self.belief = multivariate_normal(\n",
    "            mean=np.array([0, 0, math.pi / 4]), cov=np.diag([0.1, 0.2, 0.01])\n",
    "        )\n",
    "        self.motion_noise_stds = motion_noise_stds\n",
    "        self.pose = self.belief.mean\n",
    "\n",
    "    def motion_update(self, nu, omega, time):\n",
    "        if abs(omega) < 1e-5:\n",
    "            # ゼロ割発生防止\n",
    "            omega = 1e-5\n",
    "\n",
    "        M = matM(nu, omega, time, self.motion_noise_stds)\n",
    "        A = matA(nu, omega, time, self.belief.mean[2])\n",
    "        F = matF(nu, omega, time, self.belief.mean[2])\n",
    "        # ロボットが移動した後の信念の共分散行列に更新。式(6.17)\n",
    "        self.belief.cov = F.dot(self.belief.cov).dot(F.T) + A.dot(M).dot(A.T)\n",
    "        # 信念分布の中心を更新。式(6.18)\n",
    "        self.belief.mean = IdealRobot.state_transition(\n",
    "            nu, omega, time, self.belief.mean\n",
    "        )\n",
    "        self.pose = self.belief.mean\n",
    "\n",
    "    def observation_update(self, observation):\n",
    "        pass\n",
    "\n",
    "    def draw(self, ax, elems):\n",
    "        # xy平面上の誤差の3σ範囲\n",
    "        e = sigma_ellipse(self.belief.mean[0:2], self.belief.cov[0:2, 0:2], 3)\n",
    "        elems.append(ax.add_patch(e))\n",
    "\n",
    "        # θ方向の誤差の3σ範囲\n",
    "        x, y, c = self.belief.mean\n",
    "        sigma3 = math.sqrt(self.belief.cov[2, 2]) * 3\n",
    "        xs = [x + math.cos(c - sigma3), x, x + math.cos(c + sigma3)]\n",
    "        ys = [y + math.sin(c - sigma3), y, y + math.sin(c + sigma3)]\n",
    "        elems += ax.plot(xs, ys, color=\"blue\", alpha=0.5)\n"
   ]
  },
  {
   "cell_type": "code",
   "execution_count": 4,
   "metadata": {},
   "outputs": [
    {
     "data": {
      "application/vnd.jupyter.widget-view+json": {
       "model_id": "d8afb05191cc43dab968c464982bdeeb",
       "version_major": 2,
       "version_minor": 0
      },
      "image/png": "[encoded data removed]",
      "text/html": [
       "\n",
       "            <div style=\"display: inline-block;\">\n",
       "                <div class=\"jupyter-widgets widget-label\" style=\"text-align: center;\">\n",
       "                    Figure\n",
       "                </div>\n",
       "                <img src='data:image/png;base64,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' width=400.0/>\n",
       "            </div>\n",
       "        "
      ],
      "text/plain": [
       "Canvas(toolbar=Toolbar(toolitems=[('Home', 'Reset original view', 'home', 'home'), ('Back', 'Back to previous …"
      ]
     },
     "metadata": {},
     "output_type": "display_data"
    }
   ],
   "source": [
    "if __name__ == '__main__': \n",
    "    time_interval = 0.1\n",
    "    world = World(30, time_interval, debug=False) \n",
    "\n",
    "    ### 地図を生成して3つランドマークを追加 ###\n",
    "    m = Map()                                  \n",
    "    m.append_landmark(Landmark(-4,2))\n",
    "    m.append_landmark(Landmark(2,-3))\n",
    "    m.append_landmark(Landmark(3,3))\n",
    "    world.append(m)          \n",
    "\n",
    "    ### ロボットを作る ###\n",
    "    initial_pose = np.array([0, 0, 0]).T\n",
    "    kf = KalmanFilter(m, initial_pose)\n",
    "    circling = EstimationAgent(time_interval, 0.2, 10.0/180*math.pi, kf)\n",
    "    r = Robot(initial_pose, sensor=Camera(m), agent=circling, color=\"red\")\n",
    "    world.append(r)\n",
    "    \n",
    "    kf = KalmanFilter(m, initial_pose)\n",
    "    linear = EstimationAgent(time_interval, 0.1, 0.0, kf)\n",
    "    r = Robot(initial_pose, sensor=Camera(m), agent=linear, color=\"red\")\n",
    "    world.append(r)\n",
    "    \n",
    "    kf = KalmanFilter(m, initial_pose)\n",
    "    right = EstimationAgent(time_interval, 0.1, -3.0/180*math.pi, kf)\n",
    "    r = Robot(initial_pose, sensor=Camera(m), agent=right, color=\"red\")\n",
    "    world.append(r)\n",
    "    \n",
    "    %matplotlib widget\n",
    "    world.draw()"
   ]
  },
  {
   "cell_type": "code",
   "execution_count": null,
   "metadata": {},
   "outputs": [],
   "source": []
  }
 ],
 "metadata": {
  "kernelspec": {
   "display_name": "Python 3.9.12 ('base')",
   "language": "python",
   "name": "python3"
  },
  "language_info": {
   "codemirror_mode": {
    "name": "ipython",
    "version": 3
   },
   "file_extension": ".py",
   "mimetype": "text/x-python",
   "name": "python",
   "nbconvert_exporter": "python",
   "pygments_lexer": "ipython3",
   "version": "3.9.12 (main, Apr  5 2022, 06:56:58) \n[GCC 7.5.0]"
  },
  "orig_nbformat": 4,
  "vscode": {
   "interpreter": {
    "hash": "4f03494360fd8e75f5f96580c7fac6cec3631ee8e2ac6d09d1b06aa3f92c5678"
   }
  }
 },
 "nbformat": 4,
 "nbformat_minor": 2
}
